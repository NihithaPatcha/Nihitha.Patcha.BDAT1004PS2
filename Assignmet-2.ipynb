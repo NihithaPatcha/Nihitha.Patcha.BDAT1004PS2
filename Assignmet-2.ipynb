{
 "cells": [
  {
   "cell_type": "markdown",
   "id": "00c1e4b0",
   "metadata": {},
   "source": [
    "Question 1:"
   ]
  },
  {
   "cell_type": "code",
   "execution_count": null,
   "id": "dcbc7bf1",
   "metadata": {},
   "outputs": [],
   "source": [
    "a=0\n",
    "def b():\n",
    "    global a\n",
    "    a = c(a)\n",
    "    print(a)\n",
    "\n",
    "def c(a):\n",
    "    return a + 2\n",
    "b()\n",
    "b()\n",
    "b()\n",
    "print(\" the value of a is : \",a)"
   ]
  },
  {
   "cell_type": "markdown",
   "id": "78cf218f",
   "metadata": {},
   "source": [
    "\n",
    "As we declare variable a as global , its value is zero intitially. When function c(a) is called it returns the output as 2(0+2). when function b() is called local variable'a' is assigned to the value of c(a), i.e, 2.\n",
    "\n",
    "And now the value of a =2. and the same process continues. \n",
    "When we print the value of a(local variable) it is now updated to 6 after three functional calls  \n"
   ]
  },
  {
   "cell_type": "markdown",
   "id": "ceab3c76",
   "metadata": {},
   "source": [
    "QUESTION : 2"
   ]
  },
  {
   "cell_type": "code",
   "execution_count": null,
   "id": "cf948514",
   "metadata": {},
   "outputs": [],
   "source": [
    "\n",
    "def file_length(file):\n",
    "    try: \n",
    "        file = open('Globalization.txt','r')\n",
    "        contents = file.read()\n",
    "        file.close()\n",
    "        print(len(contents))\n",
    "    except FileNotFoundError:\n",
    "        print(\"file do not exist\")\n",
    "    except NameError:\n",
    "        print(\"file do not exist\")\n",
    "   \n",
    "\n",
    "file_length(file)"
   ]
  },
  {
   "cell_type": "markdown",
   "id": "2fad338a",
   "metadata": {},
   "source": [
    "QUESTION : 3"
   ]
  },
  {
   "cell_type": "code",
   "execution_count": null,
   "id": "e53712cc",
   "metadata": {},
   "outputs": [],
   "source": [
    "class Marsupial():\n",
    "    def __init__(self):\n",
    "        self.lst=[]\n",
    "    def put_in_pouch(self,xx):\n",
    "        self.lst.append(xx)        \n",
    "    def pouch_contents(self):\n",
    "        return self.lst\n",
    "class Kangaroo(Marsupial):\n",
    "    def __init__(self,x,y):\n",
    "        Marsupial.__init__(self)\n",
    "        self.x=x\n",
    "        self.y=y\n",
    "        \n",
    "    def jump(self, dx,dy):\n",
    "        self.x +=dx\n",
    "        self.y +=dy\n",
    "        \n",
    "    def __str__(self):\n",
    "        return(\"I am a Kangaroo located at coordinates ({},{})\".format(self.x,self.y))\n",
    "  \n",
    "k = Kangaroo(0,0)\n",
    "print(k) \n",
    "k.put_in_pouch('doll') \n",
    "k.put_in_pouch('firetruck')\n",
    "k.put_in_pouch('kitten')\n",
    "k.pouch_contents()\n",
    "k.jump(1,0)\n",
    "k.jump(1,0)\n",
    "k.jump(1,0)\n",
    "print(k)"
   ]
  },
  {
   "cell_type": "markdown",
   "id": "43fddfb2",
   "metadata": {},
   "source": [
    "QUESTION 4:"
   ]
  },
  {
   "cell_type": "code",
   "execution_count": null,
   "id": "ac85e3d8",
   "metadata": {},
   "outputs": [],
   "source": [
    "def Collatz(n):\n",
    "    if n==1:\n",
    "        print(n)\n",
    "    elif  n%2==0:\n",
    "        print(n)\n",
    "        Collatz(n//2)\n",
    "    elif n%2!=0:\n",
    "        print(n)\n",
    "        Collatz((3*n)+1)\n",
    "    else:\n",
    "         print(\"enter a valid number : \")\n",
    "Collatz(1)\n",
    "Collatz(10)"
   ]
  },
  {
   "cell_type": "markdown",
   "id": "f0816707",
   "metadata": {},
   "source": [
    "QUESTION 5:\n",
    "\n",
    "Write a recursive method binary() that takes a non-negative integer n and prints the binary representation of integer n.\n"
   ]
  },
  {
   "cell_type": "code",
   "execution_count": null,
   "id": "00104e78",
   "metadata": {},
   "outputs": [],
   "source": [
    "def bin(n):\n",
    "    if n<2:\n",
    "        return (n)\n",
    "    else:\n",
    "        return (n%2 + 10 *(bin(int(n//2))))\n",
    "\n",
    "print(bin(0))\n",
    "print(bin(1))\n",
    "print(bin(5))\n",
    "print(bin(9))"
   ]
  },
  {
   "cell_type": "markdown",
   "id": "e28a7d7e",
   "metadata": {},
   "source": [
    "QUESTION : 6"
   ]
  },
  {
   "cell_type": "code",
   "execution_count": null,
   "id": "86b18e93",
   "metadata": {},
   "outputs": [],
   "source": [
    "from urllib.parse import urljoin\n",
    "from html.parser import HTMLParser\n",
    "from urllib.request import urlopen\n",
    "\n",
    "var='False'\n",
    "\n",
    "class HeadingParser(HTMLParser):  \n",
    "    def handle_starttag(self, tag, attrs):\n",
    "        if tag == 'h1':\n",
    "            global var\n",
    "            var = \"True\" \n",
    "    def handle_endtag(self, tag):\n",
    "        if var == \"False\":\n",
    "            print(\"\")\n",
    "    def handle_data(self, data):\n",
    "        if var == \"True\":\n",
    "                \n",
    "            print(data)\n",
    "\n",
    "infile = open('w3c.html') \n",
    "content = infile.read() \n",
    "infile.close() \n",
    "linkparser = HeadingParser() \n",
    "linkparser.feed(content) \n",
    "\n"
   ]
  },
  {
   "cell_type": "markdown",
   "id": "5ba840a2",
   "metadata": {},
   "source": [
    "QUESTION : 7"
   ]
  },
  {
   "cell_type": "code",
   "execution_count": null,
   "id": "c1c9f49e",
   "metadata": {},
   "outputs": [],
   "source": [
    "from urllib.parse import urljoin\n",
    "from html.parser import HTMLParser\n",
    "from urllib.request import urlopen\n",
    "\n",
    "\n",
    "class Collector(HTMLParser):\n",
    "    'collects hyperlink URLs into a list'\n",
    "\n",
    "    def __init__(self, url):\n",
    "        'initializes parser, the url, and a list'\n",
    "        HTMLParser.__init__(self)\n",
    "        self.url = url\n",
    "       \n",
    "    def webdir(url,depth,indent):\n",
    "        url = ''\n",
    "        depth=2\n",
    "        indent=0\n",
    "\n",
    "    \n",
    "    def handle_starttag(self, tag, attrs):\n",
    "        if tag == 'a':\n",
    "            for attr in attrs:\n",
    "                if attr[0] == 'href':\n",
    "                    absolute = urljoin(self.url, attr[1])\n",
    "                    if absolute[:4] == 'http': # collect HTTP URLs\n",
    "                        print(absolute)\n",
    "                       \n",
    "url = 'http://reed.cs.depaul.edu/lperkovic/csc242/test1.html'\n",
    "resource = urlopen(url)\n",
    "content = resource.read().decode()\n",
    "collector = Collector(url)\n",
    "collector.webdir(content)\n"
   ]
  },
  {
   "cell_type": "markdown",
   "id": "63554848",
   "metadata": {},
   "source": [
    "QUESTION 8:"
   ]
  },
  {
   "cell_type": "code",
   "execution_count": null,
   "id": "4f1b28db",
   "metadata": {},
   "outputs": [],
   "source": [
    " !pip install ipython-sql"
   ]
  },
  {
   "cell_type": "code",
   "execution_count": null,
   "id": "66d8d0ec",
   "metadata": {},
   "outputs": [],
   "source": [
    "import sqlite3\n",
    "con = sqlite3.connect('mydatabase.db')\n",
    "cur = con.cursor()\n",
    "cur.execute(\"CREATE TABLE DATA1 (City text, Country text, Season text, Temperature float, Rainfall float)\")\n",
    "lst=[('Mumbai', 'India','Winter',24.8, 5.9),('Mumbai','India','Spring',28.4,16.2),('Mumbai','India','Summer',27.9,1549.4),\n",
    "     ('Mumbai','India','Fall',27.6,346.0),('London','United Kingdom','Winter',4.2,207.7),\n",
    "     ('London','United Kingdom','Spring',8.3,169.6),('London','United Kingdom','Summer',15.7,157.0),\n",
    "     ('London','United Kingdom','Fall',10.4,218.5),('Cairo','Egypt','Winter',13.6,16.5),('Cairo','Egypt','Spring',20.7,6.5),\n",
    "     ('Cairo','Egypt','Summer',27.7,0.1),('Cairo','Egypt','Fall',22.2,4.5)]\n",
    "for i in lst:\n",
    "    cur.execute(\"INSERT INTO DATA1 VALUES (?,?,?,?,?)\",i)\n",
    "    con.commit()\n",
    "con.close()"
   ]
  },
  {
   "cell_type": "code",
   "execution_count": null,
   "id": "b6d1cac3",
   "metadata": {},
   "outputs": [],
   "source": [
    "con = sqlite3.connect('mydatabase.db')\n",
    "cur = con.cursor()\n",
    "cur.execute('SELECT * FROM DATA1')\n",
    "for i in cur :\n",
    "    print(i)\n",
    "    #cur.fetchall()"
   ]
  },
  {
   "cell_type": "markdown",
   "id": "0a39d968",
   "metadata": {},
   "source": [
    "QUESTION 8a:All the temperature data."
   ]
  },
  {
   "cell_type": "code",
   "execution_count": null,
   "id": "b0663ee0",
   "metadata": {},
   "outputs": [],
   "source": [
    "cur.execute('SELECT Temperature FROM DATA1')\n",
    "cur.fetchall()"
   ]
  },
  {
   "cell_type": "markdown",
   "id": "528111bb",
   "metadata": {},
   "source": [
    "8b:All the cities, but without repetition."
   ]
  },
  {
   "cell_type": "code",
   "execution_count": null,
   "id": "ca71763f",
   "metadata": {},
   "outputs": [],
   "source": [
    "cur.execute('SELECT DISTINCT City from DATA1');\n",
    "cur.fetchall()"
   ]
  },
  {
   "cell_type": "markdown",
   "id": "f340219e",
   "metadata": {},
   "source": [
    "8c:All the records for India."
   ]
  },
  {
   "cell_type": "code",
   "execution_count": null,
   "id": "a3e99043",
   "metadata": {},
   "outputs": [],
   "source": [
    "cur.execute('SELECT * FROM DATA1 WHERE Country =\"India\" ')\n",
    "cur.fetchall()"
   ]
  },
  {
   "cell_type": "markdown",
   "id": "c26b0288",
   "metadata": {},
   "source": [
    "8d :  All the Fall records."
   ]
  },
  {
   "cell_type": "code",
   "execution_count": null,
   "id": "c04b6d80",
   "metadata": {},
   "outputs": [],
   "source": [
    "cur.execute('SELECT * FROM DATA1 WHERE Season=\"Fall\" ')\n",
    "cur.fetchall()"
   ]
  },
  {
   "cell_type": "markdown",
   "id": "431cea97",
   "metadata": {},
   "source": [
    "8e:The city, country, and season for which the average rainfall is between 200 and 400 millimeters."
   ]
  },
  {
   "cell_type": "code",
   "execution_count": null,
   "id": "d5b58a01",
   "metadata": {},
   "outputs": [],
   "source": [
    "cur.execute('SELECT City,Country,Season FROM DATA1 WHERE Rainfall BETWEEN 200 AND 400 ')\n",
    "cur.fetchall()"
   ]
  },
  {
   "cell_type": "markdown",
   "id": "b24b780c",
   "metadata": {},
   "source": [
    "8f:The city and country for which the average Fall temperature is above 20 degrees, in increasing temperature order."
   ]
  },
  {
   "cell_type": "code",
   "execution_count": null,
   "id": "7bd5d365",
   "metadata": {},
   "outputs": [],
   "source": [
    "cur.execute('SELECT City,Country FROM DATA1 WHERE Season=\"Fall\" AND Temperature>20 ORDER BY Temperature ASC  ')\n",
    "cur.fetchall()"
   ]
  },
  {
   "cell_type": "markdown",
   "id": "00f8e616",
   "metadata": {},
   "source": [
    "8g:The total annual rainfall for Cairo."
   ]
  },
  {
   "cell_type": "code",
   "execution_count": null,
   "id": "d47d7803",
   "metadata": {},
   "outputs": [],
   "source": [
    "cur.execute('SELECT SUM(Rainfall) FROM DATA1 WHERE Country=\"Cairo\" ')\n",
    "cur.fetchall()"
   ]
  },
  {
   "cell_type": "markdown",
   "id": "89bce150",
   "metadata": {},
   "source": [
    "8h:The total rainfall for each season."
   ]
  },
  {
   "cell_type": "code",
   "execution_count": null,
   "id": "86e74cd4",
   "metadata": {},
   "outputs": [],
   "source": [
    "cur.execute('SELECT SUM(Rainfall) FROM DATA1 GROUP BY Season ')\n",
    "cur.fetchall()"
   ]
  },
  {
   "cell_type": "markdown",
   "id": "ccb8c920",
   "metadata": {},
   "source": [
    "QUESTION 9(a):"
   ]
  },
  {
   "cell_type": "code",
   "execution_count": null,
   "id": "d31c8f46",
   "metadata": {},
   "outputs": [],
   "source": [
    "words = ['The', 'quick', 'brown', 'fox', 'jumps', 'over', 'the', 'lazy', 'dog']\n",
    "lst =[]\n",
    "for i in words:\n",
    "    a=i.upper()\n",
    "    lst.append(a)\n",
    "print(lst)"
   ]
  },
  {
   "cell_type": "markdown",
   "id": "ec2b2cb2",
   "metadata": {},
   "source": [
    "QUESTION 9(b):"
   ]
  },
  {
   "cell_type": "code",
   "execution_count": null,
   "id": "13de1b18",
   "metadata": {},
   "outputs": [],
   "source": [
    "words = ['The', 'quick', 'brown', 'fox', 'jumps', 'over', 'the', 'lazy', 'dog']\n",
    "lst =[]\n",
    "for i in words:\n",
    "    a=i.lower()\n",
    "    lst.append(a)\n",
    "print(lst)"
   ]
  },
  {
   "cell_type": "markdown",
   "id": "09b19839",
   "metadata": {},
   "source": [
    "QUESTION 9(c):"
   ]
  },
  {
   "cell_type": "code",
   "execution_count": null,
   "id": "3adce456",
   "metadata": {},
   "outputs": [],
   "source": [
    "words = ['The', 'quick', 'brown', 'fox', 'jumps', 'over', 'the', 'lazy', 'dog']\n",
    "lst =[]\n",
    "for i in words:\n",
    "    a=len(i)\n",
    "    lst.append(a)\n",
    "print(lst)"
   ]
  },
  {
   "cell_type": "markdown",
   "id": "d2b83757",
   "metadata": {},
   "source": [
    "QUESTION 9(d):"
   ]
  },
  {
   "cell_type": "code",
   "execution_count": null,
   "id": "318acc70",
   "metadata": {},
   "outputs": [],
   "source": [
    "words = ['The', 'quick', 'brown', 'fox', 'jumps', 'over', 'the', 'lazy', 'dog']\n",
    "lst =[]\n",
    "for i in words:\n",
    "    a=[i.upper(), i.lower(),len(i)]\n",
    "    lst.append(a)\n",
    "print(lst)"
   ]
  },
  {
   "cell_type": "markdown",
   "id": "0d2ca415",
   "metadata": {},
   "source": [
    "QUESTION 9(e):"
   ]
  },
  {
   "cell_type": "code",
   "execution_count": null,
   "id": "1d633748",
   "metadata": {},
   "outputs": [],
   "source": [
    "words = ['The', 'quick', 'brown', 'fox', 'jumps', 'over', 'the', 'lazy', 'dog']\n",
    "lst =[]\n",
    "for i in words:\n",
    "    if len(i) >=4:\n",
    "        lst.append(i)\n",
    "print(lst)"
   ]
  }
 ],
 "metadata": {
  "kernelspec": {
   "display_name": "Python 3",
   "language": "python",
   "name": "python3"
  },
  "language_info": {
   "codemirror_mode": {
    "name": "ipython",
    "version": 3
   },
   "file_extension": ".py",
   "mimetype": "text/x-python",
   "name": "python",
   "nbconvert_exporter": "python",
   "pygments_lexer": "ipython3",
   "version": "3.8.8"
  }
 },
 "nbformat": 4,
 "nbformat_minor": 5
}
